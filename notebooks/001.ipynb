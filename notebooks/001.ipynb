{
 "cells": [
  {
   "cell_type": "markdown",
   "id": "29e801c2",
   "metadata": {},
   "source": [
    "<span style=\"color:#a7d129; font-size:30px;\">Description</span>  "
   ]
  },
  {
   "cell_type": "markdown",
   "id": "e5c2abe6",
   "metadata": {},
   "source": [
    "This notebook use model gemini-2.5-flash from google ai studio. The language used is English"
   ]
  },
  {
   "cell_type": "markdown",
   "id": "8186695c",
   "metadata": {},
   "source": [
    "<span style=\"color:#a7d129; font-size:30px;\">Library</span>  "
   ]
  },
  {
   "cell_type": "code",
   "execution_count": 1,
   "id": "0643c25c",
   "metadata": {},
   "outputs": [],
   "source": [
    "from dotenv import load_dotenv\n",
    "from pathlib import Path\n",
    "\n",
    "import google.genai as genai\n",
    "import time\n",
    "import json\n",
    "import os"
   ]
  },
  {
   "cell_type": "code",
   "execution_count": null,
   "id": "432fcb33",
   "metadata": {},
   "outputs": [],
   "source": [
    "# Custom function\n",
    "import sys\n",
    "sys.path.append(\"../src\")\n",
    "\n",
    "from my_db_manager import GameHistory"
   ]
  },
  {
   "cell_type": "markdown",
   "id": "35b90953",
   "metadata": {},
   "source": [
    "<span style=\"color:#a7d129; font-size:30px;\">Initiation</span>  "
   ]
  },
  {
   "cell_type": "code",
   "execution_count": 3,
   "id": "92b1f897",
   "metadata": {},
   "outputs": [],
   "source": [
    "# Model configuration\n",
    "model = \"gemini-2.5-flash\"\n",
    "api_key = \"API_KEY_FOR_001\""
   ]
  },
  {
   "cell_type": "code",
   "execution_count": 4,
   "id": "aa1fe69c",
   "metadata": {},
   "outputs": [],
   "source": [
    "# Path\n",
    "root_path = Path.cwd().parent\n",
    "\n",
    "env_path = root_path / \"config\" / \".env\"\n",
    "lore_path = root_path / \"database\" / \"world\" / \"world_a.json\"\n",
    "db_path = root_path / \"database\" / \"history.db\""
   ]
  },
  {
   "cell_type": "code",
   "execution_count": 5,
   "id": "ab6200bc",
   "metadata": {},
   "outputs": [],
   "source": [
    "# Add costume code (database manager)\n",
    "gh = GameHistory(db_path = db_path) "
   ]
  },
  {
   "cell_type": "code",
   "execution_count": 6,
   "id": "28002cac",
   "metadata": {},
   "outputs": [],
   "source": [
    "# Import and initiation lore game (.json)\n",
    "with open(lore_path, \"r\", encoding=\"utf-8\") as f:\n",
    "    lore = json.load(f)"
   ]
  },
  {
   "cell_type": "markdown",
   "id": "5af9d1ad",
   "metadata": {},
   "source": [
    "<span style=\"color:#a7d129; font-size:30px;\">Load</span>  "
   ]
  },
  {
   "cell_type": "code",
   "execution_count": 7,
   "id": "4b46a97a",
   "metadata": {},
   "outputs": [],
   "source": [
    "# Load API key from .env\n",
    "load_dotenv(dotenv_path=env_path)\n",
    "\n",
    "api_key = os.getenv(api_key)"
   ]
  },
  {
   "cell_type": "code",
   "execution_count": 8,
   "id": "fac74cc8",
   "metadata": {},
   "outputs": [],
   "source": [
    "# Configuration\n",
    "client = genai.Client(api_key=api_key)"
   ]
  },
  {
   "cell_type": "code",
   "execution_count": 9,
   "id": "531784c8",
   "metadata": {},
   "outputs": [],
   "source": [
    "parent_loc_list = list(lore[\"location\"].keys())\n",
    "\n",
    "loc_list = [ \n",
    "    sub_keys\n",
    "    for parent in parent_loc_list\n",
    "    for sub_keys in lore[\"location\"][parent].keys() \n",
    "    ]\n",
    "\n",
    "all_loc_list = parent_loc_list + loc_list"
   ]
  },
  {
   "cell_type": "markdown",
   "id": "f8bbb808",
   "metadata": {},
   "source": [
    "<span style=\"color:#a7d129; font-size:30px;\">Create database for history</span>  "
   ]
  },
  {
   "cell_type": "code",
   "execution_count": 10,
   "id": "2c722db7",
   "metadata": {},
   "outputs": [],
   "source": [
    "# Configuration\n",
    "gh.create(tab_name = \"history_001\")"
   ]
  },
  {
   "cell_type": "markdown",
   "id": "b0a37c6e",
   "metadata": {},
   "source": [
    "<span style=\"color:#a7d129; font-size:30px;\">Play</span>  "
   ]
  },
  {
   "cell_type": "code",
   "execution_count": 11,
   "id": "a30737be",
   "metadata": {},
   "outputs": [],
   "source": [
    "# Get last history for context to model\n",
    "def get_history(speaker_code, intro_text, limit=5):\n",
    "    history = {\n",
    "        \"narrative\" : intro_text,\n",
    "        \"all_history\": {},\n",
    "        \"one_person_history\": {}\n",
    "    }\n",
    "\n",
    "    # Enter all history\n",
    "    for code, message, timestamp in gh.get(limit=limit):\n",
    "        history[\"all_history\"][timestamp] = f\"{code}: {message}\"\n",
    "\n",
    "    # Enter history one speaker\n",
    "    for code, message, timestamp in gh.get_oph(speaker_code, limit=limit):\n",
    "        history[\"one_person_history\"][timestamp] = f\"{code}: {message}\"\n",
    "\n",
    "    return history"
   ]
  },
  {
   "cell_type": "code",
   "execution_count": 12,
   "id": "890f636e",
   "metadata": {},
   "outputs": [],
   "source": [
    "# Generate prompt\n",
    "def gen_prompt(inp, char, parent_loc, keys, intro_text):\n",
    "    # Copy data so as not to change the original\n",
    "    lore_copy = lore[\"character\"][char].copy()\n",
    "    loc_copy = {\"location\":{parent_loc:{**keys}}}\n",
    "    history_copy = get_history(char, intro_text)\n",
    "    inp_copy = {\"question\": inp}\n",
    "\n",
    "    # Merge all dict\n",
    "    final_prompt = {**lore_copy, **loc_copy, **history_copy, **inp_copy}\n",
    "\n",
    "    # Convert it to parts format\n",
    "    parts = [{\"text\": f\"{key.capitalize()}: {value}\"} for key, value in final_prompt.items()]\n",
    "\n",
    "    return [\n",
    "        {\n",
    "            \"role\": \"user\",\n",
    "            \"parts\": parts\n",
    "        }\n",
    "    ]"
   ]
  },
  {
   "cell_type": "code",
   "execution_count": 13,
   "id": "cbf6f31a",
   "metadata": {},
   "outputs": [],
   "source": [
    "def format_elapsed(start_time, end_time):\n",
    "    elapsed = end_time - start_time\n",
    "    minutes, sec = divmod(int(elapsed), 60)\n",
    "    milliseconds = int((elapsed - int(elapsed)) * 1000)\n",
    "    return f\"{minutes:02d}m:{sec:02d}s:{milliseconds:03d}ms\""
   ]
  },
  {
   "cell_type": "code",
   "execution_count": null,
   "id": "98513f21",
   "metadata": {},
   "outputs": [],
   "source": [
    "def request(inp:str, char, parent_loc, keys, intro_text):\n",
    "    print(f\"You                          : {inp}\")\n",
    "    \n",
    "    prompt = gen_prompt(inp, char, parent_loc, keys, intro_text)\n",
    "        \n",
    "    start_time = time.time()\n",
    "\n",
    "    # Send a prompt to the model\n",
    "    response = client.models.generate_content(\n",
    "        model=model,   \n",
    "        contents=prompt\n",
    "    )\n",
    "\n",
    "    end_time = time.time()\n",
    "\n",
    "    timestamp = format_elapsed(start_time, end_time)\n",
    "\n",
    "    real_response = response.text\n",
    "    print(f\"{char}[{timestamp}] : {real_response}\")\n",
    "\n",
    "    return "
   ]
  },
  {
   "cell_type": "code",
   "execution_count": 15,
   "id": "ff676eb6",
   "metadata": {},
   "outputs": [],
   "source": [
    "def multi_loc(loc, text):\n",
    "    keys = {\"sub_loc\" : list(lore[\"location\"][loc].keys())}\n",
    "    return text + f\"{loc} ?\", keys"
   ]
  },
  {
   "cell_type": "code",
   "execution_count": 16,
   "id": "5010bc74",
   "metadata": {},
   "outputs": [],
   "source": [
    "def escape(inp):\n",
    "    if inp.lower() in [\"/exit\", \"/quit\"]:\n",
    "        print(\"Exiting chat...\")\n",
    "        return True  \n",
    "    return False     "
   ]
  },
  {
   "cell_type": "code",
   "execution_count": 17,
   "id": "05267a53",
   "metadata": {},
   "outputs": [],
   "source": [
    "def get_loc(inp: str, current_loc, current_keys):\n",
    "    parts = inp.strip(\"/\").split(\"/\") if inp.strip(\"/\") else []\n",
    "    \n",
    "    if not parts or parts[0] not in all_loc_list:\n",
    "        print(\"Invalid location!!\")\n",
    "        return current_loc, current_keys, False\n",
    "    \n",
    "    text = f\"Are you sure you wanna leave {current_loc}, and go to \"\n",
    "\n",
    "    if len(parts) == 1 :\n",
    "        final_text, keys = multi_loc(parts[0], text)\n",
    "    else :\n",
    "        parent_loc, loc = parts[0], parts[1] \n",
    "        if loc not in loc_list:\n",
    "            print(\"Invalid location!!\")\n",
    "            return current_loc, current_keys, False\n",
    "        keys = lore[\"location\"][parent_loc][loc].copy()\n",
    "        final_text = text + f\"{loc} in {parent_loc} ?\"\n",
    "\n",
    "    inp_confirm = input(f\"{final_text} (yes/no): \").strip().lower()\n",
    "\n",
    "    if inp_confirm in [\"no\",\"n\"]:\n",
    "        return current_loc, current_keys, False\n",
    "    elif inp_confirm in [\"yes\", \"y\"]:\n",
    "        return parts[0], keys, True\n"
   ]
  },
  {
   "cell_type": "code",
   "execution_count": 18,
   "id": "6ad2766c",
   "metadata": {},
   "outputs": [],
   "source": [
    "# Start simulation chat\n",
    "def chat(char: str = \"consciousness\", parent_loc:str = \"station\", keys=None):\n",
    "    if keys is None:\n",
    "        keys = lore[\"location\"][\"station\"][\"platform\"].copy()\n",
    "\n",
    "    stop_chat = False\n",
    "    cond = \"Where is my wallet?\"\n",
    "    inp = \"\"\n",
    "    current_loc = parent_loc\n",
    "\n",
    "    intro_text = \"On the train platform, a man stood looking lost (You). He patted his front and back pockets, \" \\\n",
    "    \"\\nunzipped his jacket, and checked the inside pocket. As he reached deep inside, a station officer pulled him back. \" \\\n",
    "    \"\\nIn the next heartbeat, the roar of a passing train filled his ears. He gave a small bow of thanks, nodded.\"\n",
    "\n",
    "    print(intro_text)\n",
    "    \n",
    "    # Make sure the initial question is appropriate\n",
    "    # while inp.lower() != cond.lower():\n",
    "    #     inp = input(f'You : (At first type, please type \"{cond}\") ')\n",
    "        # if escape(inp):\n",
    "        #         break\n",
    "    \n",
    "    # if stop_chat:\n",
    "    #     return\n",
    "    \n",
    "    # request(inp, char, parent_loc, keys, intro_text)\n",
    "\n",
    "    # After the initial question, enter the main loop.\n",
    "    while True:\n",
    "        inp = input(\"You    : \")\n",
    "        if not inp :\n",
    "            continue \n",
    "\n",
    "        if inp.startswith(\"/\"):\n",
    "            if escape(inp):\n",
    "                break\n",
    "\n",
    "            new_loc, new_keys, moved = get_loc(inp.lower(), current_loc, keys)\n",
    "\n",
    "            if not moved:\n",
    "                print(f\"We are not moving\")\n",
    "                continue\n",
    "            else:\n",
    "                current_loc, keys = new_loc, new_keys \n",
    "                print(f\"Current location is {current_loc}\")\n",
    "            continue\n",
    "            \n",
    "        request(inp, char, current_loc, keys, intro_text)\n",
    "        # add_history(\"P\", \"Apa yang kamu lihat?\")\n"
   ]
  },
  {
   "cell_type": "code",
   "execution_count": 19,
   "id": "efa1a740",
   "metadata": {},
   "outputs": [
    {
     "name": "stdout",
     "output_type": "stream",
     "text": [
      "On the train platform, a man stood looking lost (You). He patted his front and back pockets, \n",
      "unzipped his jacket, and checked the inside pocket. As he reached deep inside, a station officer pulled him back. \n",
      "In the next heartbeat, the roar of a passing train filled his ears. He gave a small bow of thanks, nodded.\n",
      "You                         : hello\n",
      "consciousness[00m:04s:957ms] : Lost... *thump*... The wallet.\n",
      "Exiting chat...\n"
     ]
    }
   ],
   "source": [
    "chat()"
   ]
  }
 ],
 "metadata": {
  "kernelspec": {
   "display_name": "first_llm_project",
   "language": "python",
   "name": "python3"
  },
  "language_info": {
   "codemirror_mode": {
    "name": "ipython",
    "version": 3
   },
   "file_extension": ".py",
   "mimetype": "text/x-python",
   "name": "python",
   "nbconvert_exporter": "python",
   "pygments_lexer": "ipython3",
   "version": "3.10.18"
  }
 },
 "nbformat": 4,
 "nbformat_minor": 5
}
